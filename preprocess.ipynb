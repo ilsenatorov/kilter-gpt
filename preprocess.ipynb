{
 "cells": [
  {
   "cell_type": "code",
   "execution_count": null,
   "metadata": {},
   "outputs": [],
   "source": [
    "import pandas as pd\n",
    "import sqlite3"
   ]
  },
  {
   "cell_type": "code",
   "execution_count": null,
   "metadata": {},
   "outputs": [],
   "source": [
    "!mkdir -p data/raw"
   ]
  },
  {
   "cell_type": "code",
   "execution_count": null,
   "metadata": {},
   "outputs": [],
   "source": [
    "# load everything from sql\n",
    "# data/db.sqlite3 you can get from the latest kilterboard apk\n",
    "conn = sqlite3.connect(\"data/db.sqlite3\")\n",
    "climbs = pd.read_sql_query(\"SELECT * FROM climbs\", conn)\n",
    "grades = pd.read_sql_query(\"SELECT * FROM difficulty_grades\", conn)\n",
    "stats = pd.read_sql_query(\"SELECT * FROM climb_stats\", conn)\n",
    "holds = pd.read_sql_query(\"SELECT * FROM holes\", conn)\n",
    "placements = pd.read_sql_query(\"SELECT * FROM placements\", conn)\n",
    "holds = pd.merge(placements, holds, left_on=\"hole_id\", right_on=\"id\")\n",
    "holds.set_index(\"id_x\", inplace=True)"
   ]
  },
  {
   "cell_type": "code",
   "execution_count": null,
   "metadata": {},
   "outputs": [],
   "source": [
    "# merge and rename\n",
    "df = pd.merge(climbs.drop(\"angle\", axis=1), stats, left_on=\"uuid\", right_on=\"climb_uuid\")\n",
    "df[\"average_grade\"] = df[\"difficulty_average\"].apply(lambda x: grades.loc[int(x) + 1, \"boulder_name\"])\n",
    "df[\"font_grade\"] = df[\"average_grade\"].apply(lambda x: x.split(\"/\")[0])\n",
    "df[\"v_grade\"] = df[\"average_grade\"].apply(lambda x: x.split(\"/\")[1])"
   ]
  },
  {
   "cell_type": "code",
   "execution_count": null,
   "metadata": {},
   "outputs": [],
   "source": [
    "LAYOUT_ID = 1\n",
    "MIN_ASCENTS = 2\n",
    "MIN_QUALITY = 2\n",
    "\n",
    "print(df.shape)\n",
    "df = df[df[\"frames_count\"] == 1]\n",
    "print(df.shape)\n",
    "df = df[df[\"is_listed\"] == 1]\n",
    "print(df.shape)\n",
    "df = df[df[\"layout_id\"] == 1]\n",
    "print(df.shape)\n",
    "df = df[df[\"quality_average\"] >= MIN_QUALITY]\n",
    "print(df.shape)\n",
    "df = df[df[\"ascensionist_count\"] >= MIN_ASCENTS].reset_index()\n",
    "print(df.shape)\n",
    "\n",
    "holds = holds[holds[\"layout_id\"] == 1]  # only original boards\n",
    "holds = holds[holds.index.to_series() < 3000]"
   ]
  },
  {
   "cell_type": "code",
   "execution_count": null,
   "metadata": {},
   "outputs": [],
   "source": [
    "import math\n",
    "from collections import Counter\n",
    "\n",
    "\n",
    "class KilterPolice:\n",
    "    \"\"\"Punishes bad climbs.\"\"\"\n",
    "\n",
    "    def __init__(\n",
    "        self,\n",
    "        allowed_holds: set,\n",
    "        allowed_colors: set = set([12, 13, 14, 15]),  # 12 is start, 14 is finish, 13 is blue, 15 is orange\n",
    "        n_start_holds: tuple[int, int] = (1, 2),\n",
    "        n_finish_holds: tuple[int, int] = (1, 2),\n",
    "        n_total_holds: tuple[int, int] = (2, math.inf),\n",
    "    ):\n",
    "        self.allowed_holds = allowed_holds\n",
    "        self.allowed_colors = allowed_colors\n",
    "        self.n_start_holds = n_start_holds\n",
    "        self.n_finish_holds = n_finish_holds\n",
    "        self.n_total_holds = n_total_holds\n",
    "\n",
    "    def check(self, frames: str) -> bool:\n",
    "        \"\"\"Check if the climb is valid.\"\"\"\n",
    "        colors = []\n",
    "        for frame in frames.split(\"p\")[1:]:  # split by holds\n",
    "            hold, color = frame.split(\"r\")  # split into hold id and color\n",
    "            if int(hold) not in self.allowed_holds:\n",
    "                return False\n",
    "            if int(color) not in self.allowed_colors:\n",
    "                return False\n",
    "            colors.append(int(color))\n",
    "        if len(colors) < self.n_total_holds[0] or len(colors) > self.n_total_holds[1]:\n",
    "            return False\n",
    "        counter = Counter(colors)\n",
    "        if counter[12] < self.n_start_holds[0] or counter[12] > self.n_start_holds[1]:\n",
    "            return False\n",
    "        if counter[14] < self.n_finish_holds[0] or counter[14] > self.n_finish_holds[1]:\n",
    "            return False\n",
    "        return True"
   ]
  },
  {
   "cell_type": "code",
   "execution_count": null,
   "metadata": {},
   "outputs": [],
   "source": [
    "kp = KilterPolice(set(holds.index))\n",
    "df[\"valid\"] = df[\"frames\"].apply(kp.check)\n",
    "df = df[df[\"valid\"]]\n",
    "df[\"angle\"] = df[\"angle\"]"
   ]
  },
  {
   "cell_type": "code",
   "execution_count": null,
   "metadata": {},
   "outputs": [],
   "source": [
    "df.to_csv(\"data/raw/climbs.csv\")\n",
    "holds.to_csv(\"data/raw/holds.csv\")\n",
    "grades.to_csv(\"data/raw/grades.csv\")"
   ]
  },
  {
   "cell_type": "code",
   "execution_count": null,
   "metadata": {},
   "outputs": [],
   "source": []
  }
 ],
 "metadata": {
  "kernelspec": {
   "display_name": "",
   "language": "python",
   "name": ""
  },
  "language_info": {
   "codemirror_mode": {
    "name": "ipython",
    "version": 3
   },
   "file_extension": ".py",
   "mimetype": "text/x-python",
   "name": "python",
   "nbconvert_exporter": "python",
   "pygments_lexer": "ipython3",
   "version": "3.11.9"
  }
 },
 "nbformat": 4,
 "nbformat_minor": 2
}
