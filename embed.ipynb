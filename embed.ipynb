{
 "cells": [
  {
   "cell_type": "code",
   "execution_count": null,
   "metadata": {},
   "outputs": [],
   "source": [
    "import torch\n",
    "import pandas as pd\n",
    "import plotly.express as px\n",
    "from umap import UMAP\n",
    "from sklearn.manifold import TSNE\n",
    "import numpy as np\n",
    "from src.utils import Plotter\n",
    "from tqdm import tqdm"
   ]
  },
  {
   "cell_type": "code",
   "execution_count": null,
   "metadata": {},
   "outputs": [],
   "source": [
    "from src.models.gpt import GPTModel\n",
    "MODEL_NAME = \"model-h7iskggx:v0\"\n",
    "\n",
    "model = GPTModel.load_from_checkpoint(f\"artifacts/{MODEL_NAME}/model.ckpt\")"
   ]
  },
  {
   "cell_type": "code",
   "execution_count": null,
   "metadata": {},
   "outputs": [],
   "source": [
    "df = pd.read_csv(\"data/raw/climbs.csv\")\n",
    "df = df[df[\"ascensionist_count\"] >= 5]\n",
    "df = df[df[\"angle\"] == 40]\n",
    "data = []\n",
    "for name, row in df.iterrows():\n",
    "    frames = row[\"frames\"]\n",
    "    angle = row[\"angle\"]\n",
    "    font_grade = row[\"font_grade\"]\n",
    "    stack = []\n",
    "    for _ in range(20):\n",
    "        stack.append(model.tokenizer.encode(frames, angle, font_grade, pad=64, shuffle=True))\n",
    "    data.append(torch.stack(stack))\n",
    "data = torch.stack(data)"
   ]
  },
  {
   "cell_type": "code",
   "execution_count": null,
   "metadata": {},
   "outputs": [],
   "source": [
    "embedded_data = []\n",
    "model.eval()\n",
    "with torch.no_grad():\n",
    "    for i in tqdm(data):\n",
    "        t = model.embed(i.to(\"cuda\")).mean(dim=[0, 1])\n",
    "        embedded_data.append(t.cpu().detach())\n",
    "data = torch.stack(embedded_data)"
   ]
  },
  {
   "cell_type": "code",
   "execution_count": null,
   "metadata": {},
   "outputs": [],
   "source": [
    "umap = UMAP(n_components=2, n_neighbors=50, min_dist=0.1, metric=\"euclidean\")\n",
    "embedded = umap.fit_transform(data)\n",
    "df[\"x_gpt\"] = embedded[:, 0]\n",
    "df[\"y_gpt\"] = embedded[:, 1]"
   ]
  },
  {
   "cell_type": "code",
   "execution_count": null,
   "metadata": {},
   "outputs": [],
   "source": [
    "fig = px.scatter(\n",
    "    df,\n",
    "    x=\"x_gpt\",\n",
    "    y=\"y_gpt\",\n",
    "    # color=\"difficulty_average\",\n",
    "    hover_data=[\"name\", \"font_grade\"],\n",
    "    width=1200,\n",
    "    height=800,\n",
    "    opacity=0.7,\n",
    ")\n",
    "#remove colorbar\n",
    "fig.update_layout(coloraxis_showscale=False)\n",
    "fig.show()"
   ]
  },
  {
   "cell_type": "code",
   "execution_count": null,
   "metadata": {},
   "outputs": [],
   "source": [
    "df.to_csv(\"data/dash.csv\", index=False)"
   ]
  },
  {
   "cell_type": "code",
   "execution_count": null,
   "metadata": {},
   "outputs": [],
   "source": [
    "embeddings = []\n",
    "for k,v in model.tokenizer.encode_map.items():\n",
    "    embeddings.append(model.model.transformer.wte.forward(torch.tensor([v]).to(\"cuda\")).detach().cpu())\n",
    "embeddings = torch.stack(embeddings).squeeze(1)"
   ]
  },
  {
   "cell_type": "code",
   "execution_count": null,
   "metadata": {},
   "outputs": [],
   "source": [
    "umap = UMAP(n_neighbors=50, min_dist=0.1, metric=\"cosine\")\n",
    "tok_emb = umap.fit_transform(embeddings)"
   ]
  },
  {
   "cell_type": "code",
   "execution_count": null,
   "metadata": {},
   "outputs": [],
   "source": [
    "df = pd.DataFrame(tok_emb, columns=[\"x_emb\", \"y_emb\"])\n",
    "df[\"token\"] = list(model.tokenizer.encode_map.keys())"
   ]
  },
  {
   "cell_type": "code",
   "execution_count": null,
   "metadata": {},
   "outputs": [],
   "source": [
    "def get_role(token):\n",
    "    if token.startswith(\"p\"):\n",
    "        return \"hold\"\n",
    "    if token.startswith(\"r\"):\n",
    "        return \"color\"\n",
    "    if token.startswith(\"a\"):\n",
    "        return \"angle\"\n",
    "    if token.startswith(\"f\"):\n",
    "        return \"grade\"\n",
    "    else:\n",
    "        return \"special\"\n",
    "\n",
    "df[\"role\"] = df[\"token\"].apply(get_role)"
   ]
  },
  {
   "cell_type": "code",
   "execution_count": null,
   "metadata": {},
   "outputs": [],
   "source": [
    "fig = px.scatter(df, x=\"x_emb\", y=\"y_emb\", text=\"token\", hover_name=\"token\", color=\"role\", width=1200, height=800)\n",
    "fig.update_traces(marker=dict(size=12, opacity=0.5))\n"
   ]
  }
 ],
 "metadata": {
  "kernelspec": {
   "display_name": "kilter",
   "language": "python",
   "name": "python3"
  },
  "language_info": {
   "codemirror_mode": {
    "name": "ipython",
    "version": 3
   },
   "file_extension": ".py",
   "mimetype": "text/x-python",
   "name": "python",
   "nbconvert_exporter": "python",
   "pygments_lexer": "ipython3"
  }
 },
 "nbformat": 4,
 "nbformat_minor": 2
}
