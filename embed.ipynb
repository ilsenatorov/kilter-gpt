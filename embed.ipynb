{
 "cells": [
  {
   "cell_type": "code",
   "execution_count": null,
   "metadata": {},
   "outputs": [],
   "source": [
    "import torch\n",
    "import pandas as pd\n",
    "import plotly.express as px\n",
    "from umap import UMAP\n",
    "from sklearn.manifold import TSNE\n",
    "import numpy as np\n",
    "from src.utils import Plotter, Tokenizer\n",
    "from tqdm import tqdm"
   ]
  },
  {
   "cell_type": "code",
   "execution_count": null,
   "metadata": {},
   "outputs": [],
   "source": [
    "df = pd.read_csv(\"data/raw/climbs.csv\")\n",
    "df = df[df[\"angle\"] == 40]\n",
    "df = df[df[\"ascensionist_count\"] >= 3]\n",
    "holds = pd.read_csv(\"data/raw/holds.csv\")\n",
    "holds_dict = {v:k for k,v in holds[\"id_x\"].to_dict().items()}\n",
    "holds.set_index(\"id_x\", inplace=True)\n",
    "p = Plotter()\n",
    "df[\"n_holds\"] = df[\"frames\"].apply(lambda x: len(x.split(\"p\")) - 1)\n",
    "print(df.shape)"
   ]
  },
  {
   "cell_type": "code",
   "execution_count": null,
   "metadata": {},
   "outputs": [],
   "source": [
    "def binary_encode(frames):\n",
    "    holds_present = [int(x[:-3]) - 1073 for x in frames.split(\"p\")[1:]]\n",
    "    encoding = np.zeros(len(holds), dtype=int)\n",
    "    encoding[holds_present] = 1\n",
    "    return encoding"
   ]
  },
  {
   "cell_type": "code",
   "execution_count": null,
   "metadata": {},
   "outputs": [],
   "source": [
    "data_jaccard = np.stack([binary_encode(frames) for frames in df[\"frames\"]])\n",
    "umap = UMAP(n_components=2, n_neighbors=250, min_dist=0.1, metric=\"hamming\")\n",
    "embedded = umap.fit_transform(data_jaccard)\n",
    "df[\"x_bin\"] = embedded[:, 0]\n",
    "df[\"y_bin\"] = embedded[:, 1]"
   ]
  },
  {
   "cell_type": "code",
   "execution_count": null,
   "metadata": {},
   "outputs": [],
   "source": [
    "px.scatter(\n",
    "    df,\n",
    "    x=\"x_bin\",\n",
    "    y=\"y_bin\",\n",
    "    color=\"difficulty_average\",\n",
    "    hover_data=[\"name\", \"setter_username\", \"font_grade\"],\n",
    "    width=1200,\n",
    "    height=800,\n",
    ").show()"
   ]
  },
  {
   "cell_type": "code",
   "execution_count": null,
   "metadata": {},
   "outputs": [],
   "source": [
    "from src.models.gpt import GPTModel\n",
    "from src.utils import shuffle_holds\n",
    "model = GPTModel.load_from_checkpoint(\"artifacts/model-6hojwi3o:v0/model.ckpt\")\n",
    "tokenizer = Tokenizer.load(\"data/tokenizer.pt\")"
   ]
  },
  {
   "cell_type": "code",
   "execution_count": null,
   "metadata": {},
   "outputs": [],
   "source": [
    "df = pd.read_csv(\"data/generated/best.csv\")\n",
    "data = []\n",
    "for name, row in df.iterrows():\n",
    "    frames = row[\"frames\"]\n",
    "    angle = row[\"angle\"]\n",
    "    font_grade = row[\"font_grade\"]\n",
    "    stack = []\n",
    "    for _ in range(20):\n",
    "        stack.append(tokenizer.encode(shuffle_holds(frames), angle, font_grade, pad=64))\n",
    "    data.append(torch.stack(stack))\n",
    "data = torch.stack(data)"
   ]
  },
  {
   "cell_type": "code",
   "execution_count": null,
   "metadata": {},
   "outputs": [],
   "source": [
    "embedded_data = []\n",
    "model.eval()\n",
    "with torch.no_grad():\n",
    "    for i in tqdm(data):\n",
    "        t = model.embed(i.to(\"cuda\")).mean(dim=[0, 1])\n",
    "        embedded_data.append(t.cpu().detach())\n",
    "data = torch.stack(embedded_data)"
   ]
  },
  {
   "cell_type": "code",
   "execution_count": null,
   "metadata": {},
   "outputs": [],
   "source": [
    "umap = UMAP(n_components=2, n_neighbors=1000, min_dist=0.8, metric=\"cosine\")\n",
    "embedded = umap.fit_transform(data)\n",
    "df[\"x_gpt\"] = embedded[:, 0]\n",
    "df[\"y_gpt\"] = embedded[:, 1]"
   ]
  },
  {
   "cell_type": "code",
   "execution_count": null,
   "metadata": {},
   "outputs": [],
   "source": [
    "fig = px.scatter(\n",
    "    df,\n",
    "    x=\"x_gpt\",\n",
    "    y=\"y_gpt\",\n",
    "    # color=\"difficulty_average\",\n",
    "    hover_data=[\"name\", \"font_grade\"],\n",
    "    width=1200,\n",
    "    height=800,\n",
    "    opacity=0.7,\n",
    ")\n",
    "#remove colorbar\n",
    "fig.update_layout(coloraxis_showscale=False)\n",
    "fig.show()"
   ]
  },
  {
   "cell_type": "code",
   "execution_count": null,
   "metadata": {},
   "outputs": [],
   "source": [
    "df.to_csv(\"dash_generated.csv\", index=False)"
   ]
  },
  {
   "cell_type": "code",
   "execution_count": null,
   "metadata": {},
   "outputs": [],
   "source": [
    "holds = pd.read_csv(\"data/raw/holds.csv\")"
   ]
  },
  {
   "cell_type": "code",
   "execution_count": null,
   "metadata": {},
   "outputs": [],
   "source": [
    "model = model.to(\"cpu\")"
   ]
  },
  {
   "cell_type": "code",
   "execution_count": null,
   "metadata": {},
   "outputs": [],
   "source": [
    "model.model.tok_embedding(torch.tensor([1,2,3], device=\"cuda\"))"
   ]
  },
  {
   "cell_type": "code",
   "execution_count": null,
   "metadata": {},
   "outputs": [],
   "source": [
    "tokens = pd.DataFrame(pd.Series(tokenizer.decode_map), columns=[\"token\"])\n",
    "token_embeddings = (\n",
    "    model.model.tok_embedding(torch.arange(len(tokenizer.decode_map)).unsqueeze(0).to(\"cuda\")).cpu().detach()\n",
    ")"
   ]
  },
  {
   "cell_type": "code",
   "execution_count": null,
   "metadata": {},
   "outputs": [],
   "source": [
    "torch.arange(len(tokenizer.decode_map)).to(\"cuda\").shape"
   ]
  }
 ],
 "metadata": {
  "kernelspec": {
   "display_name": "",
   "language": "python",
   "name": ""
  },
  "language_info": {
   "codemirror_mode": {
    "name": "ipython",
    "version": 3
   },
   "file_extension": ".py",
   "mimetype": "text/x-python",
   "name": "python",
   "nbconvert_exporter": "python",
   "pygments_lexer": "ipython3",
   "version": "3.11.9"
  }
 },
 "nbformat": 4,
 "nbformat_minor": 2
}
