{
 "cells": [
  {
   "cell_type": "code",
   "execution_count": null,
   "metadata": {},
   "outputs": [],
   "source": [
    "from src.models.gpt import GPTModel\n",
    "from dataclasses import dataclass\n",
    "from src.utils import Tokenizer\n",
    "import torch\n",
    "import matplotlib.pyplot as plt\n",
    "import pandas as pd\n",
    "from src.utils import Plotter, pad_to"
   ]
  },
  {
   "cell_type": "code",
   "execution_count": null,
   "metadata": {},
   "outputs": [],
   "source": [
    "@dataclass\n",
    "class Config:\n",
    "    batch_size = 2048\n",
    "    epochs = 1000\n",
    "    vocab_size = 550\n",
    "    lr = 6e-4\n",
    "    wd = 1e-5\n",
    "    n_embed = 256\n",
    "    num_blocks = 4\n",
    "    num_heads = 4\n",
    "    head_size = n_embed // num_heads\n",
    "    context_len = 64\n",
    "    attn_drop_value = 0.2\n",
    "    multihead_drop_value = 0.2\n",
    "    ffn_drop_value = 0.2\n",
    "    min_tokens = 5\n",
    "\n",
    "\n",
    "config = Config()\n",
    "\n",
    "model = GPTModel.load_from_checkpoint(\"checkpoints/main.ckpt\", config=config)"
   ]
  },
  {
   "cell_type": "code",
   "execution_count": null,
   "metadata": {},
   "outputs": [],
   "source": [
    "df = pd.read_csv(\"data/raw/climbs.csv\", index_col=0)\n",
    "plotter = Plotter()\n",
    "tokenizer = Tokenizer.from_df(df)"
   ]
  },
  {
   "cell_type": "code",
   "execution_count": null,
   "metadata": {},
   "outputs": [],
   "source": [
    "prompts = [\"p1151r12p1153r12\", \"p1234r13p1136r12\", \"p1379r14p1157r12\", \"p1340r13p1360r13\"]\n",
    "\n",
    "encoded_prompts = pad_to(\n",
    "    torch.stack([tokenizer.encode(prompt) for prompt in prompts])[:, :-1],\n",
    "    config.context_len,\n",
    "    tokenizer.encode_map[tokenizer.pad_token],\n",
    ").to(model.device)\n",
    "encoded_prompts"
   ]
  },
  {
   "cell_type": "code",
   "execution_count": null,
   "metadata": {},
   "outputs": [],
   "source": [
    "generated = model.generate(encoded_prompts, 50, temperature=0.7)"
   ]
  },
  {
   "cell_type": "code",
   "execution_count": null,
   "metadata": {},
   "outputs": [],
   "source": [
    "decoded = [\"\".join(tokenizer.decode(g)).replace(\"[PAD]\", \"\").split(\"[EOS]\")[0].split(\"[BOS]\")[-1].strip() for g in generated]\n",
    "decoded"
   ]
  },
  {
   "cell_type": "code",
   "execution_count": null,
   "metadata": {},
   "outputs": [],
   "source": [
    "df.iloc[2]['name']"
   ]
  },
  {
   "cell_type": "code",
   "execution_count": null,
   "metadata": {},
   "outputs": [],
   "source": [
    "plt.imshow(encdec.plot_climb(df.iloc[2]['frames']))"
   ]
  },
  {
   "cell_type": "code",
   "execution_count": null,
   "metadata": {},
   "outputs": [],
   "source": [
    "class EncoderDecoder:\n",
    "    \"\"\"Converts frames to tensors and back.\n",
    "    If given tensor - returns string and angle.\n",
    "    If given string and angle - returns (5,48,48) tensor.\n",
    "    \"\"\"\n",
    "\n",
    "    def __init__(self):\n",
    "        holds = pd.read_csv(\"data/raw/holds.csv\", index_col=0)\n",
    "        image_coords = pd.read_csv(\"figs/image_coords.csv\", index_col=0)\n",
    "        self.coord_to_id = self._create_coord_to_id(holds)\n",
    "        self.id_to_coord = self._create_id_to_coord(holds)\n",
    "        self.image_coords = self._create_image_coords(image_coords)\n",
    "\n",
    "    def _create_coord_to_id(self, holds: pd.DataFrame):\n",
    "        hold_lookup_matrix = np.zeros((48, 48), dtype=int)\n",
    "        for i in range(48):\n",
    "            for j in range(48):\n",
    "                hold = holds[(holds[\"x\"] == (i * 4 + 4)) & (holds[\"y\"] == (j * 4 + 4))]\n",
    "                if not hold.empty:\n",
    "                    hold_lookup_matrix[i, j] = int(hold.index[0])\n",
    "        return hold_lookup_matrix\n",
    "\n",
    "    def _create_id_to_coord(self, holds):\n",
    "        id_to_coord = holds[[\"x\", \"y\"]]\n",
    "        id_to_coord = (id_to_coord - 4) // 4\n",
    "        return id_to_coord.transpose().to_dict(orient=\"list\")\n",
    "\n",
    "    def _create_image_coords(self, image_coords: pd.DataFrame):\n",
    "        return {name: (row[\"x\"], row[\"y\"]) for name, row in image_coords.iterrows()}\n",
    "\n",
    "    def str_to_tensor(self, frames: str, angle: float) -> torch.Tensor:\n",
    "        angle_matrix = torch.ones((1, 48, 48), dtype=torch.float32) * (angle / 70)\n",
    "        matrix = torch.zeros((4, 48, 48), dtype=torch.float32)\n",
    "        for frame in frames.split(\"p\")[1:]:\n",
    "            hold_id, color = frame.split(\"r\")\n",
    "            hold_id, color = int(hold_id), int(color) - 12\n",
    "            coords = self.id_to_coord[hold_id]\n",
    "            matrix[color, coords[0], coords[1]] = 1\n",
    "        return torch.cat((matrix, angle_matrix), dim=0)\n",
    "\n",
    "    def tensor_to_str(self, matrix: torch.Tensor) -> str:\n",
    "        angle = ((matrix[-1].mean() * 70 / 5).round() * 5).long().item()\n",
    "        matrix = matrix[:-1, :, :].round().long()\n",
    "        frames = []\n",
    "        counter = [0, 0, 0, 0]\n",
    "        for color, x, y in zip(*torch.where(matrix)):\n",
    "            counter[color] += 1\n",
    "            color, x, y = color.item(), x.item(), y.item()\n",
    "            # too many start/end holds\n",
    "            if counter[color] > 2 and color in [0, 2]:\n",
    "                continue\n",
    "            hold_id = self.coord_to_id[x, y]\n",
    "            # wrong hold position\n",
    "            if hold_id == 0:\n",
    "                continue\n",
    "            role = color + 12\n",
    "            frames.append((hold_id, role))\n",
    "        sorted_frames = sorted(frames, key=lambda x: x[0])\n",
    "        return (\"\".join([f\"p{hold_id}r{role}\" for hold_id, role in sorted_frames]), angle)\n",
    "\n",
    "    def plot_climb(self, frames: str):\n",
    "        assert isinstance(frames, str), f\"Input must be frames! Got {type(frames)}\"\n",
    "        board_path = \"figs/full_board_commercial.png\"\n",
    "        image = cv2.imread(board_path)\n",
    "        try:\n",
    "            for hold in frames.split(\"p\")[1:]:\n",
    "                hold_id, hold_type = hold.split(\"r\")\n",
    "                if int(hold_id) not in self.image_coords:\n",
    "                    continue\n",
    "                radius = 30\n",
    "                thickness = 2\n",
    "                if hold_type == str(12):\n",
    "                    color = (0, 255, 0)  # start\n",
    "                if hold_type == str(13):  # hands\n",
    "                    color = (0, 200, 255)\n",
    "                if hold_type == str(14):  # end\n",
    "                    color = (255, 0, 255)\n",
    "                if hold_type == str(15):  # feet\n",
    "                    color = (255, 165, 0)\n",
    "                image = cv2.circle(image, self.image_coords[int(hold_id)], radius, color, thickness)\n",
    "        except Exception as e:\n",
    "            pass\n",
    "        return image\n",
    "\n",
    "    def __call__(self, *args):\n",
    "        if len(args) == 1:\n",
    "            return self.tensor_to_str(*args)\n",
    "        elif len(args) == 2:\n",
    "            return self.str_to_tensor(*args)\n",
    "        else:\n",
    "            raise ValueError(f\"Only 2 input args allowed! You provided {len(args)}\")\n",
    "\n"
   ]
  },
  {
   "cell_type": "code",
   "execution_count": null,
   "metadata": {},
   "outputs": [],
   "source": [
    "import pandas as pd\n",
    "import torch\n",
    "import numpy as np\n",
    "import matplotlib.pyplot as plt\n",
    "import cv2\n",
    "encdec = EncoderDecoder()"
   ]
  },
  {
   "cell_type": "code",
   "execution_count": null,
   "metadata": {},
   "outputs": [],
   "source": []
  },
  {
   "cell_type": "code",
   "execution_count": null,
   "metadata": {},
   "outputs": [],
   "source": [
    "plotter.plot_climb(df.iloc[150]['frames'], return_fig=True)"
   ]
  }
 ],
 "metadata": {
  "kernelspec": {
   "display_name": "",
   "language": "python",
   "name": ""
  },
  "language_info": {
   "codemirror_mode": {
    "name": "ipython",
    "version": 3
   },
   "file_extension": ".py",
   "mimetype": "text/x-python",
   "name": "python",
   "nbconvert_exporter": "python",
   "pygments_lexer": "ipython3",
   "version": "3.11.5"
  }
 },
 "nbformat": 4,
 "nbformat_minor": 2
}
