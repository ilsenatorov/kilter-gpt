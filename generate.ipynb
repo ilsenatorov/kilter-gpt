{
 "cells": [
  {
   "cell_type": "code",
   "execution_count": null,
   "metadata": {},
   "outputs": [],
   "source": [
    "from src.models.gpt import GPTModel\n",
    "from src.utils import Tokenizer\n",
    "from src.data.datasets import KilterGPTDataset\n",
    "import torch\n",
    "import pandas as pd\n",
    "from src.utils import Plotter\n",
    "import wandb"
   ]
  },
  {
   "cell_type": "code",
   "execution_count": null,
   "metadata": {},
   "outputs": [],
   "source": [
    "# Download the model weights and init the model\n",
    "\n",
    "MODEL_NAME = \"model-nul525pv:v0\"\n",
    "\n",
    "run = wandb.init(name=\"model_download\")\n",
    "artifact = run.use_artifact(f\"ilsenatorov/kilter-gpt/{MODEL_NAME}\", type=\"model\")\n",
    "artifact_dir = artifact.download()\n",
    "wandb.finish()\n",
    "\n",
    "model = GPTModel.load_from_checkpoint(f\"artifacts/{MODEL_NAME}/model.ckpt\")"
   ]
  },
  {
   "cell_type": "code",
   "execution_count": null,
   "metadata": {},
   "outputs": [],
   "source": [
    "# init the plotter and tokenizer\n",
    "df = pd.read_csv(\"data/raw/climbs.csv\")\n",
    "plotter = Plotter()"
   ]
  },
  {
   "cell_type": "code",
   "execution_count": null,
   "metadata": {},
   "outputs": [],
   "source": [
    "# Create a prompt and plot the holds from the prompt\n",
    "prompt = \"p1200r12p1394r14\"\n",
    "plotter.plot_climb(prompt, True)"
   ]
  },
  {
   "cell_type": "code",
   "execution_count": null,
   "metadata": {},
   "outputs": [],
   "source": [
    "plotter.plot_climb(model.generate_from_string(prompt, 40, \"8a\", 0.2)[0], True)"
   ]
  }
 ],
 "metadata": {
  "kernelspec": {
   "display_name": "",
   "language": "python",
   "name": ""
  },
  "language_info": {
   "codemirror_mode": {
    "name": "ipython",
    "version": 3
   },
   "file_extension": ".py",
   "mimetype": "text/x-python",
   "name": "python",
   "nbconvert_exporter": "python",
   "pygments_lexer": "ipython3",
   "version": "3.11.9"
  }
 },
 "nbformat": 4,
 "nbformat_minor": 2
}
